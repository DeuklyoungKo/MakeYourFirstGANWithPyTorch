{
  "nbformat": 4,
  "nbformat_minor": 0,
  "metadata": {
    "colab": {
      "name": "ch01_basic01.ipynb",
      "provenance": [],
      "collapsed_sections": [],
      "authorship_tag": "ABX9TyPUmn3QMaaM729zPfj4gXOl",
      "include_colab_link": true
    },
    "kernelspec": {
      "name": "python3",
      "display_name": "Python 3"
    },
    "language_info": {
      "name": "python"
    }
  },
  "cells": [
    {
      "cell_type": "markdown",
      "metadata": {
        "id": "view-in-github",
        "colab_type": "text"
      },
      "source": [
        "<a href=\"https://colab.research.google.com/github/DeuklyoungKo/MakeYourFirstGANWithPyTorch/blob/main/ch01_basic01.ipynb\" target=\"_parent\"><img src=\"https://colab.research.google.com/assets/colab-badge.svg\" alt=\"Open In Colab\"/></a>"
      ]
    },
    {
      "cell_type": "code",
      "execution_count": 6,
      "metadata": {
        "colab": {
          "base_uri": "https://localhost:8080/"
        },
        "id": "lcT1pret3SxL",
        "outputId": "7ec7f469-87ec-4dd5-df59-fe67d602eb44"
      },
      "outputs": [
        {
          "output_type": "stream",
          "name": "stdout",
          "text": [
            "tensor(3.5000, requires_grad=True) tensor(1.8750, grad_fn=<MulBackward0>)\n",
            "tensor(3.5000, requires_grad=True) tensor(1.8750, grad_fn=<MulBackward0>)\n",
            "tensor(5.7500)\n"
          ]
        }
      ],
      "source": [
        "import torch\n",
        "\n",
        "x = torch.tensor(3.5, requires_grad=True)\n",
        "y = (x-1) * (x-2) * (x-3)\n",
        "print(x,y)\n",
        "y.backward()\n",
        "print(x,y)\n",
        "print(x.grad)"
      ]
    }
  ]
}