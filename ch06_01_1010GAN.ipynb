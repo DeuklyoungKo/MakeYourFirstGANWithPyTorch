{
  "nbformat": 4,
  "nbformat_minor": 0,
  "metadata": {
    "colab": {
      "name": "ch06_01_1010GAN.ipynb",
      "provenance": [],
      "collapsed_sections": [],
      "authorship_tag": "ABX9TyPOpZOCHwNDWQKgQNcD9U5b",
      "include_colab_link": true
    },
    "kernelspec": {
      "name": "python3",
      "display_name": "Python 3"
    },
    "language_info": {
      "name": "python"
    }
  },
  "cells": [
    {
      "cell_type": "markdown",
      "metadata": {
        "id": "view-in-github",
        "colab_type": "text"
      },
      "source": [
        "<a href=\"https://colab.research.google.com/github/DeuklyoungKo/MakeYourFirstGANWithPyTorch/blob/main/ch06_01_1010GAN.ipynb\" target=\"_parent\"><img src=\"https://colab.research.google.com/assets/colab-badge.svg\" alt=\"Open In Colab\"/></a>"
      ]
    },
    {
      "cell_type": "code",
      "execution_count": 99,
      "metadata": {
        "id": "oYjOqa1c9nKH"
      },
      "outputs": [],
      "source": [
        "import torch\n",
        "import torch.nn as nn\n",
        "import pandas\n",
        "import matplotlib.pyplot as plt\n",
        "import random, numpy"
      ]
    },
    {
      "cell_type": "code",
      "source": [
        "def generate_real():\n",
        "  real_data = torch.FloatTensor(\n",
        "      [random.uniform(0.8, 1.0),\n",
        "       random.uniform(0.0, 0.2),\n",
        "       random.uniform(0.8, 1.0),\n",
        "       random.uniform(0.0, 0.2)])\n",
        "  return real_data\n",
        "\n",
        "generate_real()"
      ],
      "metadata": {
        "id": "0570Rha6-DtX",
        "colab": {
          "base_uri": "https://localhost:8080/"
        },
        "outputId": "61ec54f1-0de3-4f5e-ac43-909c0a495e68"
      },
      "execution_count": 100,
      "outputs": [
        {
          "output_type": "execute_result",
          "data": {
            "text/plain": [
              "tensor([0.8738, 0.0152, 0.9838, 0.0647])"
            ]
          },
          "metadata": {},
          "execution_count": 100
        }
      ]
    },
    {
      "cell_type": "markdown",
      "source": [
        "## 판별기"
      ],
      "metadata": {
        "id": "l9n98DlxMB0T"
      }
    },
    {
      "cell_type": "code",
      "source": [
        "class Discriminator(nn.Module):\n",
        "  def __init__(self):\n",
        "    super().__init__()\n",
        "\n",
        "    # 신경망 레이어 정의  \n",
        "    self.model = nn.Sequential(\n",
        "        nn.Linear(4, 3),\n",
        "        nn.Sigmoid(),\n",
        "        nn.Linear(3, 1),\n",
        "        nn.Sigmoid()\n",
        "    )\n",
        "\n",
        "    # 손실함수 설정\n",
        "    self.loss_function = nn.MSELoss()\n",
        "\n",
        "    # SGD 옵티마이저 설정\n",
        "    self.optimiser = torch.optim.SGD(self.parameters(), lr=0.01)\n",
        "\n",
        "    # 진행 측정을 위한 변수 초기화\n",
        "    self.counter = 0;\n",
        "    self.progress = []\n",
        "\n",
        "    pass\n",
        "\n",
        "  def forward(self, inputs):\n",
        "    #모델 실행\n",
        "    return self.model(inputs)\n",
        "\n",
        "  def train(self, inputs, targets):\n",
        "    # 신경망 출력 계산\n",
        "    outputs = self.forward(inputs)\n",
        "\n",
        "    # 손실 계산\n",
        "    loss = self.loss_function(outputs, targets)\n",
        "\n",
        "    # 카운터를 증가시키고 10회마다 오차 저장\n",
        "    self.counter += 1;\n",
        "    if (self.counter % 10 == 0):\n",
        "      self.progress.append(loss.item())\n",
        "      pass\n",
        "    if (self.counter % 10000 == 0):\n",
        "      print(\"counter = \", self.counter)\n",
        "      pass\n",
        "\n",
        "    # 기울기를 초기화하고 역전파 후 가중치 갱신\n",
        "    self.optimiser.zero_grad()\n",
        "    loss.backward()\n",
        "    self.optimiser.step()\n",
        "    pass\n",
        "\n",
        "  def plot_progress(self):\n",
        "    df = pandas.DataFrame(self.progress, columns=['loss'])\n",
        "    df.plot(ylim=(0, 1.0), figsize=(16,8), alpha=0.1, marker='.', grid=True, yticks=(0, 0.25, 0.5))\n",
        "    pass\n",
        "  \n",
        "#노이즈 만들기\n",
        "def generate_random(size):\n",
        "  random_data = torch.rand(size)\n",
        "  return random_data"
      ],
      "metadata": {
        "id": "vrE2_yYR7qii"
      },
      "execution_count": 101,
      "outputs": []
    },
    {
      "cell_type": "markdown",
      "source": [
        "## 생성기"
      ],
      "metadata": {
        "id": "3LcPHHbdMGbL"
      }
    },
    {
      "cell_type": "code",
      "source": [
        "class Generator(nn.Module):\n",
        "  \n",
        "  def __init__(self):\n",
        "    # 파이토치 부모 클래스 초기화\n",
        "    super().__init__()\n",
        "\n",
        "    # 신경망 레이어 정의\n",
        "    self.model = nn.Sequential(\n",
        "        nn.Linear(1,3),\n",
        "        nn.Sigmoid(),\n",
        "        nn.Linear(3,4),\n",
        "        nn.Sigmoid()\n",
        "    )\n",
        "\n",
        "    # SGD 옵티마이저 설정\n",
        "    self.optimiser = torch.optim.SGD(self.parameters(), lr=0.01)\n",
        "\n",
        "    # 진행 측정을 위한 변수 초기화\n",
        "    self.counter =0;\n",
        "    self.progress = []\n",
        "\n",
        "\n",
        "    pass\n",
        "\n",
        "  def forward(self, inputs):\n",
        "    #모델 실행\n",
        "    return self.model(inputs)\n",
        "  \n",
        "  def train(self, D, inputs, targets):\n",
        "    #신경망 출력 계산\n",
        "    g_output = self.forward(inputs)\n",
        "\n",
        "    #판별기로 전달\n",
        "    d_output = D.forward(g_output)\n",
        "\n",
        "    # 오차 계산\n",
        "    loss = D.loss_function(d_output, targets)\n",
        "\n",
        "    #카운터를 증가시키고 10회마다 오차 저장\n",
        "    self.counter += 1;\n",
        "    if (self.counter % 10 == 0):\n",
        "      self.progress.append(loss.item())\n",
        "      pass\n",
        "\n",
        "    # 기울기를 초기화 하고 역전파 후 가중치 갱신\n",
        "    self.optimiser.zero_grad()\n",
        "    loss.backward()\n",
        "    self.optimiser.step()\n",
        "\n",
        "    pass\n",
        "\n",
        "\n",
        "  def plot_progress(self):\n",
        "    df = pandas.DataFrame(self.progress, columns=['loss'])\n",
        "    df.plot(ylim=(0, 1.0), figsize=(16,8), alpha=0.1, marker='.', grid=True, yticks=(0, 0.25, 0.5))\n",
        "    pass\n"
      ],
      "metadata": {
        "id": "J-_fRZuxL_tb"
      },
      "execution_count": 102,
      "outputs": []
    },
    {
      "cell_type": "code",
      "source": [
        "# G = Generator()\n",
        "# G.forward(torch.FloatTensor([0.5]))"
      ],
      "metadata": {
        "id": "egVJa7qaPH0p"
      },
      "execution_count": 103,
      "outputs": []
    },
    {
      "cell_type": "code",
      "source": [
        "%%time\n",
        "\n",
        "D = Discriminator()\n",
        "G = Generator()\n",
        "image_list = []\n",
        "\n",
        "\n",
        "for i in range(10000):\n",
        "  # 1단계: 참에 대해 판별기 훈련\n",
        "  D.train(generate_real(), torch.FloatTensor([1.0]))\n",
        "\n",
        "  # 2단계; 거짓에 대해 판별기 훈련\n",
        "  # G의 기울기가 계산되지 않도록 detach() 함수를 이용\n",
        "  D.train(G.forward(torch.FloatTensor([0.5])).detach(), torch.FloatTensor([0.0]))\n",
        "\n",
        "  # 3단계: 생성기 훈련\n",
        "  G.train(D, torch.FloatTensor([0.5]), torch.FloatTensor([1.0]))\n",
        "\n",
        "  if(i % 1000 == 0):\n",
        "    image_list.append( G.forward(torch.FloatTensor([0.5])).detach().numpy())\n",
        "\n",
        "  pass"
      ],
      "metadata": {
        "colab": {
          "base_uri": "https://localhost:8080/"
        },
        "id": "Ht9hYYRr-6u8",
        "outputId": "94412b72-1e64-4456-89e2-9e107b016297"
      },
      "execution_count": 104,
      "outputs": [
        {
          "output_type": "stream",
          "name": "stdout",
          "text": [
            "counter =  10000\n",
            "counter =  20000\n",
            "CPU times: user 14.7 s, sys: 18.3 ms, total: 14.7 s\n",
            "Wall time: 14.8 s\n"
          ]
        }
      ]
    },
    {
      "cell_type": "code",
      "source": [
        "D.plot_progress()"
      ],
      "metadata": {
        "colab": {
          "base_uri": "https://localhost:8080/",
          "height": 483
        },
        "id": "40nGlvomBJln",
        "outputId": "e82070a7-f81f-4115-9b30-baf444214126"
      },
      "execution_count": 105,
      "outputs": [
        {
          "output_type": "display_data",
          "data": {
            "text/plain": [
              "<Figure size 1152x576 with 1 Axes>"
            ],
            "image/png": "[encoded data removed]"
          },
          "metadata": {
            "needs_background": "light"
          }
        }
      ]
    },
    {
      "cell_type": "code",
      "source": [
        "G.plot_progress()"
      ],
      "metadata": {
        "colab": {
          "base_uri": "https://localhost:8080/",
          "height": 483
        },
        "id": "0UZSIdsI8_f4",
        "outputId": "4cfa5f01-3e01-4901-80a1-e2d06cc385b7"
      },
      "execution_count": 106,
      "outputs": [
        {
          "output_type": "display_data",
          "data": {
            "text/plain": [
              "<Figure size 1152x576 with 1 Axes>"
            ],
            "image/png": "[encoded data removed]"
          },
          "metadata": {
            "needs_background": "light"
          }
        }
      ]
    },
    {
      "cell_type": "code",
      "source": [
        "plt.figure(figsize = (16, 8))\n",
        "plt.imshow(numpy.array(image_list).T, interpolation='none', cmap='Blues')"
      ],
      "metadata": {
        "colab": {
          "base_uri": "https://localhost:8080/",
          "height": 427
        },
        "id": "IHSU9wJsduiU",
        "outputId": "3131a4b4-e2a6-46d3-c996-596e562e6152"
      },
      "execution_count": 107,
      "outputs": [
        {
          "output_type": "execute_result",
          "data": {
            "text/plain": [
              "<matplotlib.image.AxesImage at 0x7f1694e21c10>"
            ]
          },
          "metadata": {},
          "execution_count": 107
        },
        {
          "output_type": "display_data",
          "data": {
            "text/plain": [
              "<Figure size 1152x576 with 1 Axes>"
            ],
            "image/png": "[encoded data removed]"
          },
          "metadata": {
            "needs_background": "light"
          }
        }
      ]
    }
  ]
}